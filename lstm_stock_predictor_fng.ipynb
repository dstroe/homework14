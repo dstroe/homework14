{
 "cells": [
  {
   "cell_type": "markdown",
   "metadata": {},
   "source": [
    "# LSTM Stock Predictor Using Fear and Greed Index\n",
    "\n",
    "In this notebook, you will build and train a custom LSTM RNN that uses a 10 day window of Bitcoin fear and greed index values to predict the 11th day closing price. \n",
    "\n",
    "You will need to:\n",
    "\n",
    "1. Prepare the data for training and testing\n",
    "2. Build and train a custom LSTM RNN\n",
    "3. Evaluate the performance of the model"
   ]
  },
  {
   "cell_type": "markdown",
   "metadata": {},
   "source": [
    "## Data Preparation\n",
    "\n",
    "In this section, you will need to prepare the training and testing data for the model. The model will use a rolling 10 day window to predict the 11th day closing price.\n",
    "\n",
    "You will need to:\n",
    "1. Use the `window_data` function to generate the X and y values for the model.\n",
    "2. Split the data into 70% training and 30% testing\n",
    "3. Apply the MinMaxScaler to the X and y values\n",
    "4. Reshape the X_train and X_test data for the model. Note: The required input format for the LSTM is:\n",
    "\n",
    "```python\n",
    "reshape((X_train.shape[0], X_train.shape[1], 1))\n",
    "```"
   ]
  },
  {
   "cell_type": "code",
   "execution_count": 15,
   "metadata": {},
   "outputs": [],
   "source": [
    "import numpy as np\n",
    "import pandas as pd\n",
    "import hvplot.pandas"
   ]
  },
  {
   "cell_type": "code",
   "execution_count": 16,
   "metadata": {},
   "outputs": [],
   "source": [
    "# Set the random seed for reproducibility\n",
    "# Note: This is for the homework solution, but it is good practice to comment this out and run multiple experiments to evaluate your model\n",
    "from numpy.random import seed\n",
    "seed(1)\n",
    "from tensorflow import random\n",
    "random.set_seed(2)"
   ]
  },
  {
   "cell_type": "code",
   "execution_count": 17,
   "metadata": {},
   "outputs": [
    {
     "output_type": "execute_result",
     "data": {
      "text/plain": [
       "             fng_value\n",
       "date                  \n",
       "2019-07-29          19\n",
       "2019-07-28          16\n",
       "2019-07-27          47\n",
       "2019-07-26          24\n",
       "2019-07-25          42"
      ],
      "text/html": "<div>\n<style scoped>\n    .dataframe tbody tr th:only-of-type {\n        vertical-align: middle;\n    }\n\n    .dataframe tbody tr th {\n        vertical-align: top;\n    }\n\n    .dataframe thead th {\n        text-align: right;\n    }\n</style>\n<table border=\"1\" class=\"dataframe\">\n  <thead>\n    <tr style=\"text-align: right;\">\n      <th></th>\n      <th>fng_value</th>\n    </tr>\n    <tr>\n      <th>date</th>\n      <th></th>\n    </tr>\n  </thead>\n  <tbody>\n    <tr>\n      <th>2019-07-29</th>\n      <td>19</td>\n    </tr>\n    <tr>\n      <th>2019-07-28</th>\n      <td>16</td>\n    </tr>\n    <tr>\n      <th>2019-07-27</th>\n      <td>47</td>\n    </tr>\n    <tr>\n      <th>2019-07-26</th>\n      <td>24</td>\n    </tr>\n    <tr>\n      <th>2019-07-25</th>\n      <td>42</td>\n    </tr>\n  </tbody>\n</table>\n</div>"
     },
     "metadata": {},
     "execution_count": 17
    }
   ],
   "source": [
    "# Load the fear and greed sentiment data for Bitcoin\n",
    "df = pd.read_csv(r'C:\\Users\\Owner\\Desktop\\btc_sentiment.csv', index_col=\"date\", infer_datetime_format=True, parse_dates=True)\n",
    "df = df.drop(columns=\"fng_classification\")\n",
    "df.head()"
   ]
  },
  {
   "cell_type": "code",
   "execution_count": 18,
   "metadata": {},
   "outputs": [
    {
     "output_type": "execute_result",
     "data": {
      "text/plain": [
       "Date\n",
       "2019-07-25    9882.429688\n",
       "2019-07-26    9847.450195\n",
       "2019-07-27    9478.320313\n",
       "2019-07-28    9531.769531\n",
       "2019-07-29    9529.889648\n",
       "Name: Close, dtype: float64"
      ]
     },
     "metadata": {},
     "execution_count": 18
    }
   ],
   "source": [
    "# Load the historical closing prices for Bitcoin\n",
    "df2 = pd.read_csv(r'C:\\Users\\Owner\\Desktop\\btc_historic.csv', index_col=\"Date\", infer_datetime_format=True, parse_dates=True)['Close']\n",
    "df2 = df2.sort_index()\n",
    "df2.tail()"
   ]
  },
  {
   "cell_type": "code",
   "execution_count": 19,
   "metadata": {},
   "outputs": [
    {
     "output_type": "execute_result",
     "data": {
      "text/plain": [
       "             fng_value        Close\n",
       "2019-07-25          42  9882.429688\n",
       "2019-07-26          24  9847.450195\n",
       "2019-07-27          47  9478.320313\n",
       "2019-07-28          16  9531.769531\n",
       "2019-07-29          19  9529.889648"
      ],
      "text/html": "<div>\n<style scoped>\n    .dataframe tbody tr th:only-of-type {\n        vertical-align: middle;\n    }\n\n    .dataframe tbody tr th {\n        vertical-align: top;\n    }\n\n    .dataframe thead th {\n        text-align: right;\n    }\n</style>\n<table border=\"1\" class=\"dataframe\">\n  <thead>\n    <tr style=\"text-align: right;\">\n      <th></th>\n      <th>fng_value</th>\n      <th>Close</th>\n    </tr>\n  </thead>\n  <tbody>\n    <tr>\n      <th>2019-07-25</th>\n      <td>42</td>\n      <td>9882.429688</td>\n    </tr>\n    <tr>\n      <th>2019-07-26</th>\n      <td>24</td>\n      <td>9847.450195</td>\n    </tr>\n    <tr>\n      <th>2019-07-27</th>\n      <td>47</td>\n      <td>9478.320313</td>\n    </tr>\n    <tr>\n      <th>2019-07-28</th>\n      <td>16</td>\n      <td>9531.769531</td>\n    </tr>\n    <tr>\n      <th>2019-07-29</th>\n      <td>19</td>\n      <td>9529.889648</td>\n    </tr>\n  </tbody>\n</table>\n</div>"
     },
     "metadata": {},
     "execution_count": 19
    }
   ],
   "source": [
    "# Join the data into a single DataFrame\n",
    "df = df.join(df2, how=\"inner\")\n",
    "df.tail()"
   ]
  },
  {
   "cell_type": "code",
   "execution_count": 20,
   "metadata": {},
   "outputs": [
    {
     "output_type": "execute_result",
     "data": {
      "text/plain": [
       "             fng_value        Close\n",
       "2018-02-01          30  9114.719727\n",
       "2018-02-02          15  8870.820313\n",
       "2018-02-03          40  9251.269531\n",
       "2018-02-04          24  8218.049805\n",
       "2018-02-05          11  6937.080078"
      ],
      "text/html": "<div>\n<style scoped>\n    .dataframe tbody tr th:only-of-type {\n        vertical-align: middle;\n    }\n\n    .dataframe tbody tr th {\n        vertical-align: top;\n    }\n\n    .dataframe thead th {\n        text-align: right;\n    }\n</style>\n<table border=\"1\" class=\"dataframe\">\n  <thead>\n    <tr style=\"text-align: right;\">\n      <th></th>\n      <th>fng_value</th>\n      <th>Close</th>\n    </tr>\n  </thead>\n  <tbody>\n    <tr>\n      <th>2018-02-01</th>\n      <td>30</td>\n      <td>9114.719727</td>\n    </tr>\n    <tr>\n      <th>2018-02-02</th>\n      <td>15</td>\n      <td>8870.820313</td>\n    </tr>\n    <tr>\n      <th>2018-02-03</th>\n      <td>40</td>\n      <td>9251.269531</td>\n    </tr>\n    <tr>\n      <th>2018-02-04</th>\n      <td>24</td>\n      <td>8218.049805</td>\n    </tr>\n    <tr>\n      <th>2018-02-05</th>\n      <td>11</td>\n      <td>6937.080078</td>\n    </tr>\n  </tbody>\n</table>\n</div>"
     },
     "metadata": {},
     "execution_count": 20
    }
   ],
   "source": [
    "df.head()"
   ]
  },
  {
   "cell_type": "code",
   "execution_count": 21,
   "metadata": {},
   "outputs": [],
   "source": [
    "# This function accepts the column number for the features (X) and the target (y)\n",
    "# It chunks the data up with a rolling window of Xt-n to predict Xt\n",
    "# It returns a numpy array of X any y\n",
    "def window_data(df, window, feature_col_number, target_col_number):\n",
    "    X = []\n",
    "    y = []\n",
    "    for i in range(len(df) - window - 1):\n",
    "        features = df.iloc[i:(i + window), feature_col_number]\n",
    "        target = df.iloc[(i + window), target_col_number]\n",
    "        X.append(features)\n",
    "        y.append(target)\n",
    "    return np.array(X), np.array(y).reshape(-1, 1)"
   ]
  },
  {
   "cell_type": "code",
   "execution_count": 22,
   "metadata": {},
   "outputs": [],
   "source": [
    "# Predict Closing Prices using a 10 day window of previous fng values\n",
    "# Then, experiment with window sizes anywhere from 1 to 10 and see how the model performance changes\n",
    "window_size = 7\n",
    "\n",
    "# Column index 0 is the 'fng_value' column\n",
    "# Column index 1 is the `Close` column\n",
    "feature_column = 1\n",
    "target_column = 1\n",
    "X, y = window_data(df, window_size, feature_column, target_column)"
   ]
  },
  {
   "cell_type": "code",
   "execution_count": 23,
   "metadata": {},
   "outputs": [],
   "source": [
    "# Use 70% of the data for training and the remaineder for testing\n",
    "split = int(0.7 * len(X))\n",
    "X_train = X[: split - 1]\n",
    "X_test = X[split:]\n",
    "y_train = y[: split - 1]\n",
    "y_test = y[split:]"
   ]
  },
  {
   "cell_type": "code",
   "execution_count": 24,
   "metadata": {},
   "outputs": [
    {
     "output_type": "execute_result",
     "data": {
      "text/plain": [
       "array([[0.60761794, 0.58242373, 0.62172321, 0.51499412, 0.38267307,\n",
       "        0.46160996, 0.4503991 ],\n",
       "       [0.58242373, 0.62172321, 0.51499412, 0.38267307, 0.46160996,\n",
       "        0.4503991 , 0.5193988 ],\n",
       "       [0.62172321, 0.51499412, 0.38267307, 0.46160996, 0.4503991 ,\n",
       "        0.5193988 , 0.56445096],\n",
       "       [0.51499412, 0.38267307, 0.46160996, 0.4503991 , 0.5193988 ,\n",
       "        0.56445096, 0.55127638],\n",
       "       [0.38267307, 0.46160996, 0.4503991 , 0.5193988 , 0.56445096,\n",
       "        0.55127638, 0.5012101 ],\n",
       "       [0.46160996, 0.4503991 , 0.5193988 , 0.56445096, 0.55127638,\n",
       "        0.5012101 , 0.58660203],\n",
       "       [0.4503991 , 0.5193988 , 0.56445096, 0.55127638, 0.5012101 ,\n",
       "        0.58660203, 0.5487353 ]])"
      ]
     },
     "metadata": {},
     "execution_count": 24
    }
   ],
   "source": [
    "from sklearn.preprocessing import MinMaxScaler\n",
    "# Use the MinMaxScaler to scale data between 0 and 1.\n",
    "scaler = MinMaxScaler()\n",
    "scaler.fit(X)\n",
    "X_train = scaler.transform(X_train)\n",
    "X_test = scaler.transform(X_test)\n",
    "scaler.fit(y)\n",
    "y_train = scaler.transform(y_train)\n",
    "y_test = scaler.transform(y_test)\n",
    "X_train[:7]\n",
    "\n"
   ]
  },
  {
   "cell_type": "code",
   "execution_count": 28,
   "metadata": {},
   "outputs": [],
   "source": [
    "# Reshape the features for the model\n",
    "X_train = X_train.reshape((X_train.shape[0], X_train.shape[1], 1))\n",
    "X_test = X_test.reshape((X_test.shape[0], X_test.shape[1], 1))\n",
    "\n"
   ]
  },
  {
   "cell_type": "markdown",
   "metadata": {},
   "source": [
    "---"
   ]
  },
  {
   "cell_type": "markdown",
   "metadata": {},
   "source": [
    "## Build and Train the LSTM RNN\n",
    "\n",
    "In this section, you will design a custom LSTM RNN and fit (train) it using the training data.\n",
    "\n",
    "You will need to:\n",
    "1. Define the model architecture\n",
    "2. Compile the model\n",
    "3. Fit the model to the training data\n",
    "\n",
    "### Hints:\n",
    "You will want to use the same model architecture and random seed for both notebooks. This is necessary to accurately compare the performance of the FNG model vs the closing price model. "
   ]
  },
  {
   "cell_type": "code",
   "execution_count": 29,
   "metadata": {},
   "outputs": [],
   "source": [
    "from tensorflow.keras.models import Sequential\n",
    "from tensorflow.keras.layers import LSTM, Dense, Dropout"
   ]
  },
  {
   "cell_type": "code",
   "execution_count": 40,
   "metadata": {},
   "outputs": [],
   "source": [
    "# Build the LSTM model. \n",
    "# The return sequences need to be set to True if you are adding additional LSTM layers, but \n",
    "# You don't have to do this for the final layer. \n",
    "# Note: The dropouts help prevent overfitting\n",
    "# Note: The input shape is the number of time steps and the number of indicators\n",
    "# Note: Batching inputs has a different input shape of Samples/TimeSteps/Features\n",
    "\n",
    "model = Sequential()\n",
    "\n",
    "number_units = 30\n",
    "dropout_fraction = 0.2\n",
    "\n",
    "# Layer 1\n",
    "model.add(LSTM(\n",
    "    units=number_units,\n",
    "    return_sequences=True,\n",
    "    input_shape=(X_train.shape[1], 1))\n",
    "    )\n",
    "model.add(Dropout(dropout_fraction))\n",
    "# Layer 2\n",
    "model.add(LSTM(units=number_units, return_sequences=True))\n",
    "model.add(Dropout(dropout_fraction))\n",
    "# Layer 3\n",
    "model.add(LSTM(units=number_units))\n",
    "model.add(Dropout(dropout_fraction))\n",
    "# Output layer\n",
    "model.add(Dense(1))"
   ]
  },
  {
   "cell_type": "code",
   "execution_count": 41,
   "metadata": {},
   "outputs": [],
   "source": [
    "# Compile the model\n",
    "model.compile(optimizer=\"adam\", loss=\"mean_squared_error\")"
   ]
  },
  {
   "cell_type": "code",
   "execution_count": 42,
   "metadata": {},
   "outputs": [
    {
     "output_type": "stream",
     "name": "stdout",
     "text": [
      "Model: \"sequential_3\"\n_________________________________________________________________\nLayer (type)                 Output Shape              Param #   \n=================================================================\nlstm_9 (LSTM)                (None, 7, 30)             3840      \n_________________________________________________________________\ndropout_9 (Dropout)          (None, 7, 30)             0         \n_________________________________________________________________\nlstm_10 (LSTM)               (None, 7, 30)             7320      \n_________________________________________________________________\ndropout_10 (Dropout)         (None, 7, 30)             0         \n_________________________________________________________________\nlstm_11 (LSTM)               (None, 30)                7320      \n_________________________________________________________________\ndropout_11 (Dropout)         (None, 30)                0         \n_________________________________________________________________\ndense_3 (Dense)              (None, 1)                 31        \n=================================================================\nTotal params: 18,511\nTrainable params: 18,511\nNon-trainable params: 0\n_________________________________________________________________\n"
     ]
    }
   ],
   "source": [
    "# Summarize the model\n",
    "model.summary()"
   ]
  },
  {
   "cell_type": "code",
   "execution_count": 43,
   "metadata": {},
   "outputs": [
    {
     "output_type": "stream",
     "name": "stdout",
     "text": [
      "Epoch 1/20\n",
      "8/8 [==============================] - 4s 6ms/step - loss: 0.2381\n",
      "Epoch 2/20\n",
      "8/8 [==============================] - 0s 6ms/step - loss: 0.1160\n",
      "Epoch 3/20\n",
      "8/8 [==============================] - 0s 5ms/step - loss: 0.0392\n",
      "Epoch 4/20\n",
      "8/8 [==============================] - 0s 5ms/step - loss: 0.0176\n",
      "Epoch 5/20\n",
      "8/8 [==============================] - 0s 5ms/step - loss: 0.0165\n",
      "Epoch 6/20\n",
      "8/8 [==============================] - 0s 5ms/step - loss: 0.0230\n",
      "Epoch 7/20\n",
      "8/8 [==============================] - 0s 5ms/step - loss: 0.0159\n",
      "Epoch 8/20\n",
      "8/8 [==============================] - 0s 5ms/step - loss: 0.0123\n",
      "Epoch 9/20\n",
      "8/8 [==============================] - 0s 5ms/step - loss: 0.0109\n",
      "Epoch 10/20\n",
      "8/8 [==============================] - 0s 5ms/step - loss: 0.0118\n",
      "Epoch 11/20\n",
      "8/8 [==============================] - 0s 5ms/step - loss: 0.0093\n",
      "Epoch 12/20\n",
      "8/8 [==============================] - 0s 5ms/step - loss: 0.0102\n",
      "Epoch 13/20\n",
      "8/8 [==============================] - 0s 5ms/step - loss: 0.0094\n",
      "Epoch 14/20\n",
      "8/8 [==============================] - 0s 5ms/step - loss: 0.0097\n",
      "Epoch 15/20\n",
      "8/8 [==============================] - 0s 5ms/step - loss: 0.0113\n",
      "Epoch 16/20\n",
      "8/8 [==============================] - 0s 5ms/step - loss: 0.0118\n",
      "Epoch 17/20\n",
      "8/8 [==============================] - 0s 5ms/step - loss: 0.0105\n",
      "Epoch 18/20\n",
      "8/8 [==============================] - 0s 5ms/step - loss: 0.0105\n",
      "Epoch 19/20\n",
      "8/8 [==============================] - 0s 5ms/step - loss: 0.0100\n",
      "Epoch 20/20\n",
      "8/8 [==============================] - 0s 5ms/step - loss: 0.0091\n"
     ]
    },
    {
     "output_type": "execute_result",
     "data": {
      "text/plain": [
       "<tensorflow.python.keras.callbacks.History at 0x1a89ad8a490>"
      ]
     },
     "metadata": {},
     "execution_count": 43
    }
   ],
   "source": [
    "# Train the model\n",
    "# Use at least 10 epochs\n",
    "# Do not shuffle the data\n",
    "# Experiement with the batch size, but a smaller batch size is recommended\n",
    "model.fit(X_train, y_train, epochs=20, shuffle=False, batch_size=50, verbose=1)"
   ]
  },
  {
   "cell_type": "markdown",
   "metadata": {},
   "source": [
    "---"
   ]
  },
  {
   "cell_type": "markdown",
   "metadata": {},
   "source": [
    "## Model Performance\n",
    "\n",
    "In this section, you will evaluate the model using the test data. \n",
    "\n",
    "You will need to:\n",
    "1. Evaluate the model using the `X_test` and `y_test` data.\n",
    "2. Use the X_test data to make predictions\n",
    "3. Create a DataFrame of Real (y_test) vs predicted values. \n",
    "4. Plot the Real vs predicted values as a line chart\n",
    "\n",
    "### Hints\n",
    "Remember to apply the `inverse_transform` function to the predicted and y_test values to recover the actual closing prices."
   ]
  },
  {
   "cell_type": "code",
   "execution_count": 44,
   "metadata": {},
   "outputs": [
    {
     "output_type": "stream",
     "name": "stdout",
     "text": [
      "6/6 [==============================] - 1s 2ms/step - loss: 0.0056\n"
     ]
    },
    {
     "output_type": "execute_result",
     "data": {
      "text/plain": [
       "0.005619799718260765"
      ]
     },
     "metadata": {},
     "execution_count": 44
    }
   ],
   "source": [
    "# Evaluate the model\n",
    "model.evaluate(X_test, y_test)"
   ]
  },
  {
   "cell_type": "code",
   "execution_count": 45,
   "metadata": {},
   "outputs": [],
   "source": [
    "# Make some predictions\n",
    "predicted = model.predict(X_test)"
   ]
  },
  {
   "cell_type": "code",
   "execution_count": 46,
   "metadata": {},
   "outputs": [],
   "source": [
    "# Recover the original prices instead of the scaled version\n",
    "predicted_prices = scaler.inverse_transform(predicted)\n",
    "real_prices = scaler.inverse_transform(y_test.reshape(-1, 1))"
   ]
  },
  {
   "cell_type": "code",
   "execution_count": 47,
   "metadata": {},
   "outputs": [
    {
     "output_type": "execute_result",
     "data": {
      "text/plain": [
       "                   Real    Predicted\n",
       "2019-02-19  3912.570068  3769.676025\n",
       "2019-02-20  3924.239990  3776.897705\n",
       "2019-02-21  3974.050049  3796.659912\n",
       "2019-02-22  3937.040039  3832.653320\n",
       "2019-02-23  3983.530029  3879.990234"
      ],
      "text/html": "<div>\n<style scoped>\n    .dataframe tbody tr th:only-of-type {\n        vertical-align: middle;\n    }\n\n    .dataframe tbody tr th {\n        vertical-align: top;\n    }\n\n    .dataframe thead th {\n        text-align: right;\n    }\n</style>\n<table border=\"1\" class=\"dataframe\">\n  <thead>\n    <tr style=\"text-align: right;\">\n      <th></th>\n      <th>Real</th>\n      <th>Predicted</th>\n    </tr>\n  </thead>\n  <tbody>\n    <tr>\n      <th>2019-02-19</th>\n      <td>3912.570068</td>\n      <td>3769.676025</td>\n    </tr>\n    <tr>\n      <th>2019-02-20</th>\n      <td>3924.239990</td>\n      <td>3776.897705</td>\n    </tr>\n    <tr>\n      <th>2019-02-21</th>\n      <td>3974.050049</td>\n      <td>3796.659912</td>\n    </tr>\n    <tr>\n      <th>2019-02-22</th>\n      <td>3937.040039</td>\n      <td>3832.653320</td>\n    </tr>\n    <tr>\n      <th>2019-02-23</th>\n      <td>3983.530029</td>\n      <td>3879.990234</td>\n    </tr>\n  </tbody>\n</table>\n</div>"
     },
     "metadata": {},
     "execution_count": 47
    }
   ],
   "source": [
    "# Create a DataFrame of Real and Predicted values\n",
    "stocks = pd.DataFrame({\n",
    "    \"Real\": real_prices.ravel(),\n",
    "    \"Predicted\": predicted_prices.ravel()\n",
    "}, index = df.index[-len(real_prices): ]) \n",
    "stocks.head()"
   ]
  },
  {
   "cell_type": "code",
   "execution_count": 48,
   "metadata": {},
   "outputs": [
    {
     "output_type": "display_data",
     "data": {},
     "metadata": {}
    },
    {
     "output_type": "execute_result",
     "data": {
      "text/html": "<div id='1412'>\n\n\n\n\n\n  <div class=\"bk-root\" id=\"21b18aba-8b9a-454f-a5d6-3fa10aba2a02\" data-root-id=\"1412\"></div>\n</div>\n<script type=\"application/javascript\">(function(root) {\n  function embed_document(root) {\n    var docs_json = {\"4ca4844b-c103-4be0-af62-aedee118bf14\":{\"roots\":{\"references\":[{\"attributes\":{},\"id\":\"1423\",\"type\":\"LinearScale\"},{\"attributes\":{\"source\":{\"id\":\"1482\"}},\"id\":\"1489\",\"type\":\"CDSView\"},{\"attributes\":{},\"id\":\"1432\",\"type\":\"BasicTicker\"},{\"attributes\":{\"axis_label\":\"\",\"bounds\":\"auto\",\"formatter\":{\"id\":\"1450\"},\"major_label_orientation\":\"horizontal\",\"ticker\":{\"id\":\"1432\"}},\"id\":\"1431\",\"type\":\"LinearAxis\"},{\"attributes\":{\"axis\":{\"id\":\"1431\"},\"dimension\":1,\"grid_line_color\":null,\"ticker\":null},\"id\":\"1434\",\"type\":\"Grid\"},{\"attributes\":{\"axis_label\":\"\",\"bounds\":\"auto\",\"formatter\":{\"id\":\"1448\"},\"major_label_orientation\":\"horizontal\",\"ticker\":{\"id\":\"1428\"}},\"id\":\"1427\",\"type\":\"DatetimeAxis\"},{\"attributes\":{},\"id\":\"1483\",\"type\":\"Selection\"},{\"attributes\":{},\"id\":\"1437\",\"type\":\"WheelZoomTool\"},{\"attributes\":{},\"id\":\"1478\",\"type\":\"UnionRenderers\"},{\"attributes\":{},\"id\":\"1435\",\"type\":\"SaveTool\"},{\"attributes\":{\"line_alpha\":0.1,\"line_color\":\"#ff7e0e\",\"line_width\":2,\"x\":{\"field\":\"index\"},\"y\":{\"field\":\"value\"}},\"id\":\"1486\",\"type\":\"Line\"},{\"attributes\":{\"overlay\":{\"id\":\"1440\"}},\"id\":\"1438\",\"type\":\"BoxZoomTool\"},{\"attributes\":{},\"id\":\"1448\",\"type\":\"DatetimeTickFormatter\"},{\"attributes\":{},\"id\":\"1439\",\"type\":\"ResetTool\"},{\"attributes\":{\"line_color\":\"#ff7e0e\",\"line_width\":2,\"x\":{\"field\":\"index\"},\"y\":{\"field\":\"value\"}},\"id\":\"1485\",\"type\":\"Line\"},{\"attributes\":{\"active_drag\":\"auto\",\"active_inspect\":\"auto\",\"active_multi\":null,\"active_scroll\":\"auto\",\"active_tap\":\"auto\",\"tools\":[{\"id\":\"1416\"},{\"id\":\"1435\"},{\"id\":\"1436\"},{\"id\":\"1437\"},{\"id\":\"1438\"},{\"id\":\"1439\"}]},\"id\":\"1441\",\"type\":\"Toolbar\"},{\"attributes\":{\"label\":{\"value\":\"Predicted\"},\"renderers\":[{\"id\":\"1488\"}]},\"id\":\"1512\",\"type\":\"LegendItem\"},{\"attributes\":{\"margin\":[5,5,5,5],\"name\":\"HSpacer02006\",\"sizing_mode\":\"stretch_width\"},\"id\":\"1413\",\"type\":\"Spacer\"},{\"attributes\":{\"data_source\":{\"id\":\"1452\"},\"glyph\":{\"id\":\"1455\"},\"hover_glyph\":null,\"muted_glyph\":{\"id\":\"1457\"},\"nonselection_glyph\":{\"id\":\"1456\"},\"selection_glyph\":null,\"view\":{\"id\":\"1459\"}},\"id\":\"1458\",\"type\":\"GlyphRenderer\"},{\"attributes\":{\"callback\":null,\"formatters\":{\"@{index}\":\"datetime\"},\"renderers\":[{\"id\":\"1458\"},{\"id\":\"1488\"}],\"tags\":[\"hv_created\"],\"tooltips\":[[\"Variable\",\"@{Variable}\"],[\"index\",\"@{index}{%F %T}\"],[\"value\",\"@{value}\"]]},\"id\":\"1416\",\"type\":\"HoverTool\"},{\"attributes\":{\"days\":[1,2,3,4,5,6,7,8,9,10,11,12,13,14,15,16,17,18,19,20,21,22,23,24,25,26,27,28,29,30,31]},\"id\":\"1469\",\"type\":\"DaysTicker\"},{\"attributes\":{},\"id\":\"1450\",\"type\":\"BasicTickFormatter\"},{\"attributes\":{\"line_alpha\":0.1,\"line_color\":\"#1f77b3\",\"line_width\":2,\"x\":{\"field\":\"index\"},\"y\":{\"field\":\"value\"}},\"id\":\"1456\",\"type\":\"Line\"},{\"attributes\":{\"base\":24,\"mantissas\":[1,2,4,6,8,12],\"max_interval\":43200000.0,\"min_interval\":3600000.0,\"num_minor_ticks\":0},\"id\":\"1468\",\"type\":\"AdaptiveTicker\"},{\"attributes\":{},\"id\":\"1510\",\"type\":\"UnionRenderers\"},{\"attributes\":{\"mantissas\":[1,2,5],\"max_interval\":500.0,\"num_minor_ticks\":0},\"id\":\"1466\",\"type\":\"AdaptiveTicker\"},{\"attributes\":{},\"id\":\"1453\",\"type\":\"Selection\"},{\"attributes\":{\"base\":60,\"mantissas\":[1,2,5,10,15,20,30],\"max_interval\":1800000.0,\"min_interval\":1000.0,\"num_minor_ticks\":0},\"id\":\"1467\",\"type\":\"AdaptiveTicker\"},{\"attributes\":{\"months\":[0,1,2,3,4,5,6,7,8,9,10,11]},\"id\":\"1473\",\"type\":\"MonthsTicker\"},{\"attributes\":{\"end\":1564358400000.0,\"reset_end\":1564358400000.0,\"reset_start\":1550534400000.0,\"start\":1550534400000.0,\"tags\":[[[\"index\",\"index\",null]]]},\"id\":\"1414\",\"type\":\"Range1d\"},{\"attributes\":{\"months\":[0,2,4,6,8,10]},\"id\":\"1474\",\"type\":\"MonthsTicker\"},{\"attributes\":{\"text\":\"Actual Vs. Predicted Bitcoin Prices (FNG)\",\"text_color\":{\"value\":\"black\"},\"text_font_size\":{\"value\":\"12pt\"}},\"id\":\"1419\",\"type\":\"Title\"},{\"attributes\":{\"data\":{\"Variable\":[\"Predicted\",\"Predicted\",\"Predicted\",\"Predicted\",\"Predicted\",\"Predicted\",\"Predicted\",\"Predicted\",\"Predicted\",\"Predicted\",\"Predicted\",\"Predicted\",\"Predicted\",\"Predicted\",\"Predicted\",\"Predicted\",\"Predicted\",\"Predicted\",\"Predicted\",\"Predicted\",\"Predicted\",\"Predicted\",\"Predicted\",\"Predicted\",\"Predicted\",\"Predicted\",\"Predicted\",\"Predicted\",\"Predicted\",\"Predicted\",\"Predicted\",\"Predicted\",\"Predicted\",\"Predicted\",\"Predicted\",\"Predicted\",\"Predicted\",\"Predicted\",\"Predicted\",\"Predicted\",\"Predicted\",\"Predicted\",\"Predicted\",\"Predicted\",\"Predicted\",\"Predicted\",\"Predicted\",\"Predicted\",\"Predicted\",\"Predicted\",\"Predicted\",\"Predicted\",\"Predicted\",\"Predicted\",\"Predicted\",\"Predicted\",\"Predicted\",\"Predicted\",\"Predicted\",\"Predicted\",\"Predicted\",\"Predicted\",\"Predicted\",\"Predicted\",\"Predicted\",\"Predicted\",\"Predicted\",\"Predicted\",\"Predicted\",\"Predicted\",\"Predicted\",\"Predicted\",\"Predicted\",\"Predicted\",\"Predicted\",\"Predicted\",\"Predicted\",\"Predicted\",\"Predicted\",\"Predicted\",\"Predicted\",\"Predicted\",\"Predicted\",\"Predicted\",\"Predicted\",\"Predicted\",\"Predicted\",\"Predicted\",\"Predicted\",\"Predicted\",\"Predicted\",\"Predicted\",\"Predicted\",\"Predicted\",\"Predicted\",\"Predicted\",\"Predicted\",\"Predicted\",\"Predicted\",\"Predicted\",\"Predicted\",\"Predicted\",\"Predicted\",\"Predicted\",\"Predicted\",\"Predicted\",\"Predicted\",\"Predicted\",\"Predicted\",\"Predicted\",\"Predicted\",\"Predicted\",\"Predicted\",\"Predicted\",\"Predicted\",\"Predicted\",\"Predicted\",\"Predicted\",\"Predicted\",\"Predicted\",\"Predicted\",\"Predicted\",\"Predicted\",\"Predicted\",\"Predicted\",\"Predicted\",\"Predicted\",\"Predicted\",\"Predicted\",\"Predicted\",\"Predicted\",\"Predicted\",\"Predicted\",\"Predicted\",\"Predicted\",\"Predicted\",\"Predicted\",\"Predicted\",\"Predicted\",\"Predicted\",\"Predicted\",\"Predicted\",\"Predicted\",\"Predicted\",\"Predicted\",\"Predicted\",\"Predicted\",\"Predicted\",\"Predicted\",\"Predicted\",\"Predicted\",\"Predicted\",\"Predicted\",\"Predicted\",\"Predicted\",\"Predicted\",\"Predicted\",\"Predicted\",\"Predicted\",\"Predicted\",\"Predicted\"],\"index\":{\"__ndarray__\":\"AACA1TCQdkIAAEA7g5B2QgAAAKHVkHZCAADABiiRdkIAAIBsepF2QgAAQNLMkXZCAAAAOB+SdkIAAMCdcZJ2QgAAgAPEknZCAABAaRaTdkIAAADPaJN2QgAAwDS7k3ZCAACAmg2UdkIAAEAAYJR2QgAAAGaylHZCAADAywSVdkIAAIAxV5V2QgAAQJeplXZCAAAA/fuVdkIAAMBiTpZ2QgAAgMiglnZCAABALvOWdkIAAACURZd2QgAAwPmXl3ZCAACAX+qXdkIAAEDFPJh2QgAAACuPmHZCAADAkOGYdkIAAID2M5l2QgAAQFyGmXZCAAAAwtiZdkIAAMAnK5p2QgAAgI19mnZCAABA88+adkIAAABZIpt2QgAAwL50m3ZCAACAJMebdkIAAECKGZx2QgAAAPBrnHZCAADAVb6cdkIAAIC7EJ12QgAAQCFjnXZCAAAAh7WddkIAAMDsB552QgAAgFJannZCAABAuKyedkIAAAAe/552QgAAwINRn3ZCAACA6aOfdkIAAEBP9p92QgAAALVIoHZCAADAGpugdkIAAICA7aB2QgAAQOY/oXZCAAAATJKhdkIAAMCx5KF2QgAAgBc3onZCAABAfYmidkIAAADj26J2QgAAwEguo3ZCAACAroCjdkIAAEAU06N2QgAAAHolpHZCAADA33ekdkIAAIBFyqR2QgAAQKscpXZCAAAAEW+ldkIAAMB2waV2QgAAgNwTpnZCAABAQmamdkIAAACouKZ2QgAAwA0Lp3ZCAACAc12ndkIAAEDZr6d2QgAAAD8CqHZCAADApFSodkIAAIAKp6h2QgAAQHD5qHZCAAAA1kupdkIAAMA7nql2QgAAgKHwqXZCAABAB0OqdkIAAABtlap2QgAAwNLnqnZCAACAODqrdkIAAECejKt2QgAAAATfq3ZCAADAaTGsdkIAAIDPg6x2QgAAQDXWrHZCAAAAmyitdkIAAMAAe612QgAAgGbNrXZCAABAzB+udkIAAAAycq52QgAAwJfErnZCAACA/RavdkIAAEBjaa92QgAAAMm7r3ZCAADALg6wdkIAAICUYLB2QgAAQPqysHZCAAAAYAWxdkIAAMDFV7F2QgAAgCuqsXZCAABAkfyxdkIAAAD3TrJ2QgAAwFyhsnZCAACAwvOydkIAAEAoRrN2QgAAAI6Ys3ZCAADA8+qzdkIAAIBZPbR2QgAAQL+PtHZCAAAAJeK0dkIAAMCKNLV2QgAAgPCGtXZCAABAVtm1dkIAAAC8K7Z2QgAAwCF+tnZCAACAh9C2dkIAAEDtIrd2QgAAAFN1t3ZCAADAuMe3dkIAAIAeGrh2QgAAQIRsuHZCAAAA6r64dkIAAMBPEbl2QgAAgLVjuXZCAABAG7a5dkIAAACBCLp2QgAAwOZaunZCAACATK26dkIAAECy/7p2QgAAABhSu3ZCAADAfaS7dkIAAIDj9rt2QgAAQElJvHZCAAAAr5u8dkIAAMAU7rx2QgAAgHpAvXZCAABA4JK9dkIAAABG5b12QgAAwKs3vnZCAACAEYq+dkIAAEB33L52QgAAAN0uv3ZCAADAQoG/dkIAAICo0792QgAAQA4mwHZCAAAAdHjAdkIAAMDZysB2QgAAgD8dwXZCAABApW/BdkIAAAALwsF2QgAAwHAUwnZCAACA1mbCdkIAAEA8ucJ2QgAAAKILw3ZCAADAB17DdkIAAIBtsMN2Qg==\",\"dtype\":\"float64\",\"order\":\"little\",\"shape\":[161]},\"value\":{\"__ndarray__\":\"0ZprRV0ObEWPSm1FdIpvRdh/ckWz3nVFjlR5RTAnfUW9r31Fm8t9RWDjfEWGJXxFy3d6RR08dkWw/HZFH6N2RUOjdkWchXZFO552RYG6dkWb5HZFQbh3RXzdeUWZL3pFNn96RRauekVHFXtFF4t6RRJwekV6U3tF51B8RTrCfUVdZX9F+kWARawtgEVpRIBF1FyARSYigEWJSX9FNyd/RWMof0W/WX9FJASARSEGgUVWkIJFX1SEReIwh0VRn4pFZgyPRfuJlEX1uppFhhicRXRYnUU1QJ9FZDygRWIUoUUJyaBFGKCfRRgRn0Umrp1FG2qeRagpn0W0LaBFxcugRVuaokV8daNF5GmkRSICpUXIeaVFqI+lRXCjpUVV4qRFl/KiRSCgoUV/qaJFMq2jRXdfpUW+a6dFelCqRUnkrEUxtK9FgEmyRdyqs0VIrrVF6Ii5RZ7dv0W2IshF+qHRRS7520VfKeZFIiXqRdhC8EVNHvBFP7juRTeb60WdAetFi7ruRdjH80VrOvJFpTTzRRzD9UXJDPxFJIUARve+Aka30wRGnEYERgVEA0auDgJG+YkARhoUAEbuQPxFe6H3RWza8EXuzO5FuE7wRU9C8UVjh/JFdw7zRdJB9UWJLvtFmr//Re9IA0bIUgZG074JRq8dDEbY1g5GQDESRpJKFUay0BpGpmEhRigmKEZYWC1GYXIxRsb+NEZucjdG7nU2RuddMEYT2jBGHkUsRrpYKUbyCCtG/g8uRknoMEav2S9G1lYyRmDHNUbPNThGcBQ5Rm7YNUbSCDBGT5EqRhwvJ0ZEXyFGnhIdRt2VHUbrrRtGyoYfRkknIkaUmSBGkvMeRlHHG0Y=\",\"dtype\":\"float32\",\"order\":\"little\",\"shape\":[161]}},\"selected\":{\"id\":\"1483\"},\"selection_policy\":{\"id\":\"1510\"}},\"id\":\"1482\",\"type\":\"ColumnDataSource\"},{\"attributes\":{\"days\":[1,4,7,10,13,16,19,22,25,28]},\"id\":\"1470\",\"type\":\"DaysTicker\"},{\"attributes\":{\"line_color\":\"#1f77b3\",\"line_width\":2,\"x\":{\"field\":\"index\"},\"y\":{\"field\":\"value\"}},\"id\":\"1455\",\"type\":\"Line\"},{\"attributes\":{\"bottom_units\":\"screen\",\"fill_alpha\":0.5,\"fill_color\":\"lightgrey\",\"left_units\":\"screen\",\"level\":\"overlay\",\"line_alpha\":1.0,\"line_color\":\"black\",\"line_dash\":[4,4],\"line_width\":2,\"right_units\":\"screen\",\"top_units\":\"screen\"},\"id\":\"1440\",\"type\":\"BoxAnnotation\"},{\"attributes\":{\"days\":[1,15]},\"id\":\"1472\",\"type\":\"DaysTicker\"},{\"attributes\":{\"num_minor_ticks\":5,\"tickers\":[{\"id\":\"1466\"},{\"id\":\"1467\"},{\"id\":\"1468\"},{\"id\":\"1469\"},{\"id\":\"1470\"},{\"id\":\"1471\"},{\"id\":\"1472\"},{\"id\":\"1473\"},{\"id\":\"1474\"},{\"id\":\"1475\"},{\"id\":\"1476\"},{\"id\":\"1477\"}]},\"id\":\"1428\",\"type\":\"DatetimeTicker\"},{\"attributes\":{\"margin\":[5,5,5,5],\"name\":\"HSpacer02007\",\"sizing_mode\":\"stretch_width\"},\"id\":\"1711\",\"type\":\"Spacer\"},{\"attributes\":{\"months\":[0,6]},\"id\":\"1476\",\"type\":\"MonthsTicker\"},{\"attributes\":{\"click_policy\":\"mute\",\"items\":[{\"id\":\"1481\"},{\"id\":\"1512\"}],\"location\":[0,0],\"title\":\"Variable\"},\"id\":\"1480\",\"type\":\"Legend\"},{\"attributes\":{\"days\":[1,8,15,22]},\"id\":\"1471\",\"type\":\"DaysTicker\"},{\"attributes\":{\"line_alpha\":0.2,\"line_color\":\"#ff7e0e\",\"line_width\":2,\"x\":{\"field\":\"index\"},\"y\":{\"field\":\"value\"}},\"id\":\"1487\",\"type\":\"Line\"},{\"attributes\":{},\"id\":\"1477\",\"type\":\"YearsTicker\"},{\"attributes\":{\"below\":[{\"id\":\"1427\"}],\"center\":[{\"id\":\"1430\"},{\"id\":\"1434\"}],\"left\":[{\"id\":\"1431\"}],\"margin\":[5,5,5,5],\"min_border_bottom\":10,\"min_border_left\":10,\"min_border_right\":10,\"min_border_top\":10,\"plot_height\":300,\"plot_width\":700,\"renderers\":[{\"id\":\"1458\"},{\"id\":\"1488\"}],\"right\":[{\"id\":\"1480\"}],\"sizing_mode\":\"fixed\",\"title\":{\"id\":\"1419\"},\"toolbar\":{\"id\":\"1441\"},\"x_range\":{\"id\":\"1414\"},\"x_scale\":{\"id\":\"1423\"},\"y_range\":{\"id\":\"1415\"},\"y_scale\":{\"id\":\"1425\"}},\"id\":\"1418\",\"subtype\":\"Figure\",\"type\":\"Plot\"},{\"attributes\":{\"children\":[{\"id\":\"1413\"},{\"id\":\"1418\"},{\"id\":\"1711\"}],\"margin\":[0,0,0,0],\"name\":\"Row02002\",\"tags\":[\"embedded\"]},\"id\":\"1412\",\"type\":\"Row\"},{\"attributes\":{},\"id\":\"1425\",\"type\":\"LinearScale\"},{\"attributes\":{\"data_source\":{\"id\":\"1482\"},\"glyph\":{\"id\":\"1485\"},\"hover_glyph\":null,\"muted_glyph\":{\"id\":\"1487\"},\"nonselection_glyph\":{\"id\":\"1486\"},\"selection_glyph\":null,\"view\":{\"id\":\"1489\"}},\"id\":\"1488\",\"type\":\"GlyphRenderer\"},{\"attributes\":{\"months\":[0,4,8]},\"id\":\"1475\",\"type\":\"MonthsTicker\"},{\"attributes\":{},\"id\":\"1436\",\"type\":\"PanTool\"},{\"attributes\":{\"source\":{\"id\":\"1452\"}},\"id\":\"1459\",\"type\":\"CDSView\"},{\"attributes\":{\"end\":13831.480297400001,\"reset_end\":13831.480297400001,\"reset_start\":2813.0800046,\"start\":2813.0800046,\"tags\":[[[\"value\",\"value\",null]]]},\"id\":\"1415\",\"type\":\"Range1d\"},{\"attributes\":{\"line_alpha\":0.2,\"line_color\":\"#1f77b3\",\"line_width\":2,\"x\":{\"field\":\"index\"},\"y\":{\"field\":\"value\"}},\"id\":\"1457\",\"type\":\"Line\"},{\"attributes\":{\"data\":{\"Variable\":[\"Real\",\"Real\",\"Real\",\"Real\",\"Real\",\"Real\",\"Real\",\"Real\",\"Real\",\"Real\",\"Real\",\"Real\",\"Real\",\"Real\",\"Real\",\"Real\",\"Real\",\"Real\",\"Real\",\"Real\",\"Real\",\"Real\",\"Real\",\"Real\",\"Real\",\"Real\",\"Real\",\"Real\",\"Real\",\"Real\",\"Real\",\"Real\",\"Real\",\"Real\",\"Real\",\"Real\",\"Real\",\"Real\",\"Real\",\"Real\",\"Real\",\"Real\",\"Real\",\"Real\",\"Real\",\"Real\",\"Real\",\"Real\",\"Real\",\"Real\",\"Real\",\"Real\",\"Real\",\"Real\",\"Real\",\"Real\",\"Real\",\"Real\",\"Real\",\"Real\",\"Real\",\"Real\",\"Real\",\"Real\",\"Real\",\"Real\",\"Real\",\"Real\",\"Real\",\"Real\",\"Real\",\"Real\",\"Real\",\"Real\",\"Real\",\"Real\",\"Real\",\"Real\",\"Real\",\"Real\",\"Real\",\"Real\",\"Real\",\"Real\",\"Real\",\"Real\",\"Real\",\"Real\",\"Real\",\"Real\",\"Real\",\"Real\",\"Real\",\"Real\",\"Real\",\"Real\",\"Real\",\"Real\",\"Real\",\"Real\",\"Real\",\"Real\",\"Real\",\"Real\",\"Real\",\"Real\",\"Real\",\"Real\",\"Real\",\"Real\",\"Real\",\"Real\",\"Real\",\"Real\",\"Real\",\"Real\",\"Real\",\"Real\",\"Real\",\"Real\",\"Real\",\"Real\",\"Real\",\"Real\",\"Real\",\"Real\",\"Real\",\"Real\",\"Real\",\"Real\",\"Real\",\"Real\",\"Real\",\"Real\",\"Real\",\"Real\",\"Real\",\"Real\",\"Real\",\"Real\",\"Real\",\"Real\",\"Real\",\"Real\",\"Real\",\"Real\",\"Real\",\"Real\",\"Real\",\"Real\",\"Real\",\"Real\",\"Real\",\"Real\",\"Real\",\"Real\",\"Real\",\"Real\",\"Real\",\"Real\",\"Real\"],\"index\":{\"__ndarray__\":\"AACA1TCQdkIAAEA7g5B2QgAAAKHVkHZCAADABiiRdkIAAIBsepF2QgAAQNLMkXZCAAAAOB+SdkIAAMCdcZJ2QgAAgAPEknZCAABAaRaTdkIAAADPaJN2QgAAwDS7k3ZCAACAmg2UdkIAAEAAYJR2QgAAAGaylHZCAADAywSVdkIAAIAxV5V2QgAAQJeplXZCAAAA/fuVdkIAAMBiTpZ2QgAAgMiglnZCAABALvOWdkIAAACURZd2QgAAwPmXl3ZCAACAX+qXdkIAAEDFPJh2QgAAACuPmHZCAADAkOGYdkIAAID2M5l2QgAAQFyGmXZCAAAAwtiZdkIAAMAnK5p2QgAAgI19mnZCAABA88+adkIAAABZIpt2QgAAwL50m3ZCAACAJMebdkIAAECKGZx2QgAAAPBrnHZCAADAVb6cdkIAAIC7EJ12QgAAQCFjnXZCAAAAh7WddkIAAMDsB552QgAAgFJannZCAABAuKyedkIAAAAe/552QgAAwINRn3ZCAACA6aOfdkIAAEBP9p92QgAAALVIoHZCAADAGpugdkIAAICA7aB2QgAAQOY/oXZCAAAATJKhdkIAAMCx5KF2QgAAgBc3onZCAABAfYmidkIAAADj26J2QgAAwEguo3ZCAACAroCjdkIAAEAU06N2QgAAAHolpHZCAADA33ekdkIAAIBFyqR2QgAAQKscpXZCAAAAEW+ldkIAAMB2waV2QgAAgNwTpnZCAABAQmamdkIAAACouKZ2QgAAwA0Lp3ZCAACAc12ndkIAAEDZr6d2QgAAAD8CqHZCAADApFSodkIAAIAKp6h2QgAAQHD5qHZCAAAA1kupdkIAAMA7nql2QgAAgKHwqXZCAABAB0OqdkIAAABtlap2QgAAwNLnqnZCAACAODqrdkIAAECejKt2QgAAAATfq3ZCAADAaTGsdkIAAIDPg6x2QgAAQDXWrHZCAAAAmyitdkIAAMAAe612QgAAgGbNrXZCAABAzB+udkIAAAAycq52QgAAwJfErnZCAACA/RavdkIAAEBjaa92QgAAAMm7r3ZCAADALg6wdkIAAICUYLB2QgAAQPqysHZCAAAAYAWxdkIAAMDFV7F2QgAAgCuqsXZCAABAkfyxdkIAAAD3TrJ2QgAAwFyhsnZCAACAwvOydkIAAEAoRrN2QgAAAI6Ys3ZCAADA8+qzdkIAAIBZPbR2QgAAQL+PtHZCAAAAJeK0dkIAAMCKNLV2QgAAgPCGtXZCAABAVtm1dkIAAAC8K7Z2QgAAwCF+tnZCAACAh9C2dkIAAEDtIrd2QgAAAFN1t3ZCAADAuMe3dkIAAIAeGrh2QgAAQIRsuHZCAAAA6r64dkIAAMBPEbl2QgAAgLVjuXZCAABAG7a5dkIAAACBCLp2QgAAwOZaunZCAACATK26dkIAAECy/7p2QgAAABhSu3ZCAADAfaS7dkIAAIDj9rt2QgAAQElJvHZCAAAAr5u8dkIAAMAU7rx2QgAAgHpAvXZCAABA4JK9dkIAAABG5b12QgAAwKs3vnZCAACAEYq+dkIAAEB33L52QgAAAN0uv3ZCAADAQoG/dkIAAICo0792QgAAQA4mwHZCAAAAdHjAdkIAAMDZysB2QgAAgD8dwXZCAABApW/BdkIAAAALwsF2QgAAwHAUwnZCAACA1mbCdkIAAEA8ucJ2QgAAAKILw3ZCAADAB17DdkIAAIBtsMN2Qg==\",\"dtype\":\"float64\",\"order\":\"little\",\"shape\":[161]},\"value\":{\"__ndarray__\":\"/vDz3yORrkC8IvjfeqiuQGbEBaAZDK9AIef9fxTCrkDdCfZfDx+vQL4xBAAXNbBAZLX5fz13rUBE3QcgBQuuQJxKBoDC061AI/YJoHDtrUBktfl/vd6tQHdF8L/17q1AVl7yP+EFrkCqoQ3AnsitQN0J9l+PJq1AAg8MIFxErkB3RfC/9UWuQB/Y8V84Va5AiboPQAo4rkC8IvjfeteuQIerAyCus65A4ScOoMdFrkD/8PPfI2GuQFVe8j/hTK5AVl7yP+FSrkBCzvv/KK6uQETdByAFdq9AAAAAAAA8r0DKiAtAsymvQOEnDqBHcK9AAAAAAICxr0ACDwwg3DmvQIerAyCuQa9A3xgCgGtOr0Af2PFfODSvQGfEBaAZqa5AI/YJoHDMrkB3RfC/9ZuvQJs7+l/miK9ATiUDQGEPsEBOJQNAIRawQCsv+Z+wELBAelT831E3sECGqwMg7iqzQL8xBACXcLNAC0j7H1wxs0C8IvjfOrezQAAAAABAwbNAQs77/yhRtEC+MQQAF660QC0+BcBMUbRAZcQFoJnGtEDV0AZgj7izQP////9/2bNAQs77/6jYs0C+MQQAly20QEPdByBFrbNA1dAGYM9ctECcSgaAQnS0QP////+/qbRA6WD9n4evtECGqwMgLs60QGS1+X+9ubRA3xgCgKsStUBlxAWgGaO1QCHn/X+UTrVA4BgCgKsqtEC+MQQAF3K0QLsi+N96bbRA08H6P3OYtEBvDAHA9XW0QPW3BOCj5rRAkfP+P4oNtUAXnwJguHy1QE4lA0BhebZAIef9fxTQtkD2twTgI6K2QN8YAoArdLZAelT835G7tkBvDAHAtW63QG8MAcD1G7hAkfP+P0rWuEAKSPsfXBe8QE4lA0ChQbtACkj7H1x+vkBOJQNAISy/QCDn/X/U979ACkj7HxzCvkBvDAHA9cu8QCHn/X8UYrxAelT835EAwECR8/4/Sj6/QIerAyDuC79A9rcE4OPKvUAAAAAAgMS+QJo7+l9mPL9ATiUDQCF7v0DfGAKAHQvBQG8MAcCVKMFAstr8v2wHwUDpYP2fR+zAQP////8fKsBAbwwBwFWzwEBZbf5f77XAQCDn/X/0EMFAZLX5f32yv0AXnwJgeP29QJHz/j9Kb75ACkj7H1x/vkBPJQNAoUK/QOlg/Z/H/b5ALC/5n3DbvUAAAAAAAFW/QHlU/N9R7b5A9bcE4CPuv0C+MQQAyRXAQDiGAOD6+sBA6WD9n8dKwUC+MQQAl4nBQE4lA0ABPMJAOIYA4Nq8wUDIef8fRSDCQLLa/L9soMJAWW3+X2/1w0DIef8fxeDEQLLa/L/+M8VAstr8v96NxUDfGAKAK+7GQHpU/N+jOMlA4BgCgAvJxUDpYP2fhyHIQLPa/L8MNsdAF58CYIYIxUBYbf5f76/EQKeSAaAQLsVAhqsDIM5mx0Ah5/1/QsrFQAAAAACgeMVAF58CYHj4xUB5VPzfI2nGQCLn/X8UBMhAIef9f4KLyEBZbf5fj6HHQFlt/l+PJ8ZAWW3+X68Kx0CGqwMg/DHGQCHn/X807sNATiUDQCExxUAWnwJguGfCQE4lA0AT8MJAstr8vyzHxEAXnwJgeJLEQHAMAcC1A8VAOIYA4FqtxEBZbf5f7yrEQE4lA0ATP8NAe1T83xEWw0C+MQQAN03DQOlg/Z+5O8NAvjEEACmDwkAg5/1/4p3CQA==\",\"dtype\":\"float64\",\"order\":\"little\",\"shape\":[161]}},\"selected\":{\"id\":\"1453\"},\"selection_policy\":{\"id\":\"1478\"}},\"id\":\"1452\",\"type\":\"ColumnDataSource\"},{\"attributes\":{\"axis\":{\"id\":\"1427\"},\"grid_line_color\":null,\"ticker\":null},\"id\":\"1430\",\"type\":\"Grid\"},{\"attributes\":{\"label\":{\"value\":\"Real\"},\"renderers\":[{\"id\":\"1458\"}]},\"id\":\"1481\",\"type\":\"LegendItem\"}],\"root_ids\":[\"1412\"]},\"title\":\"Bokeh Application\",\"version\":\"2.2.3\"}};\n    var render_items = [{\"docid\":\"4ca4844b-c103-4be0-af62-aedee118bf14\",\"root_ids\":[\"1412\"],\"roots\":{\"1412\":\"21b18aba-8b9a-454f-a5d6-3fa10aba2a02\"}}];\n    root.Bokeh.embed.embed_items_notebook(docs_json, render_items);\n  }\n  if (root.Bokeh !== undefined && root.Bokeh.Panel !== undefined) {\n    embed_document(root);\n  } else {\n    var attempts = 0;\n    var timer = setInterval(function(root) {\n      if (root.Bokeh !== undefined && root.Bokeh.Panel !== undefined) {\n        clearInterval(timer);\n        embed_document(root);\n      } else if (document.readyState == \"complete\") {\n        attempts++;\n        if (attempts > 100) {\n          clearInterval(timer);\n          console.log(\"Bokeh: ERROR: Unable to run BokehJS code because BokehJS library is missing\");\n        }\n      }\n    }, 10, root)\n  }\n})(window);</script>",
      "application/vnd.holoviews_exec.v0+json": "",
      "text/plain": [
       ":NdOverlay   [Variable]\n",
       "   :Curve   [index]   (value)"
      ]
     },
     "metadata": {
      "application/vnd.holoviews_exec.v0+json": {
       "id": "1412"
      }
     },
     "execution_count": 48
    }
   ],
   "source": [
    "# Plot the real vs predicted values as a line chart\n",
    "stocks.hvplot(title =\"Actual Vs. Predicted Bitcoin Prices (FNG)\")"
   ]
  },
  {
   "cell_type": "code",
   "execution_count": null,
   "metadata": {},
   "outputs": [],
   "source": []
  }
 ],
 "metadata": {
  "file_extension": ".py",
  "kernelspec": {
   "display_name": "Python 3",
   "language": "python",
   "name": "python3"
  },
  "language_info": {
   "codemirror_mode": {
    "name": "ipython",
    "version": 3
   },
   "file_extension": ".py",
   "mimetype": "text/x-python",
   "name": "python",
   "nbconvert_exporter": "python",
   "pygments_lexer": "ipython3",
   "version": "3.8.5-final"
  },
  "mimetype": "text/x-python",
  "name": "python",
  "npconvert_exporter": "python",
  "pygments_lexer": "ipython3",
  "version": 3
 },
 "nbformat": 4,
 "nbformat_minor": 4
}